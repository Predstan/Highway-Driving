{
 "cells": [
  {
   "cell_type": "code",
   "execution_count": 4,
   "source": [
    "\n",
    "import numpy as np\n",
    "import random\n",
    "from math import exp, sqrt\n",
    "from matplotlib import pyplot as plt"
   ],
   "outputs": [],
   "metadata": {}
  },
  {
   "cell_type": "code",
   "execution_count": 9,
   "source": [
    "SIGMA_S = [10.0, 4.0, 1.0] # s, s_dot, s_double_dot\n",
    "SIGMA_D = [1.0, 1.0, 0.5]\n",
    "SIGMA_T = 2.0\n",
    "\n",
    "MAX_JERK = 10 # m/s/s/s\n",
    "MAX_ACCEL= 10 # m/s/s\n",
    "\n",
    "EXPECTED_JERK_IN_ONE_SEC = 2 # m/s/s\n",
    "EXPECTED_ACC_IN_ONE_SEC = 1 # m/s\n",
    "\n",
    "\n",
    "WEIGHTED_COST_FUNCTIONS = [\n",
    "    (time_diff_cost,    0),\n",
    "    (s_diff_cost,       1),\n",
    "    (d_diff_cost,       1),\n",
    "    (efficiency_cost,   1),\n",
    "    (max_jerk_cost,     0),\n",
    "    (total_jerk_cost,   0),\n",
    "    (collision_cost,    0),\n",
    "    (buffer_cost,       0),\n",
    "    (max_accel_cost,    0),\n",
    "    (total_accel_cost,  0),\n",
    "]\n",
    "\n",
    "N_SAMPLES = 10\n",
    "\n",
    "SPEED_LIMIT = 30\n",
    "VEHICLE_RADIUS = 1.5 # model vehicle as circle to simplify collision detection\n",
    "\n"
   ],
   "outputs": [],
   "metadata": {}
  },
  {
   "cell_type": "code",
   "execution_count": 6,
   "source": [
    "def nearest_approach_to_any_vehicle(traj, vehicles):\n",
    "    closest = 999999\n",
    "    for v in vehicles.values():\n",
    "        d = nearest_approach(traj,vehicle)\n",
    "        if d < closest:\n",
    "            closest = d\n",
    "    return closest\n",
    "\n",
    "def nearest_approach(traj, vehicle):\n",
    "    closest = 999999\n",
    "    s_,d_,T = traj\n",
    "    s = to_equation(s_)\n",
    "    d = to_equation(d_)\n",
    "    for i in range(100):\n",
    "        t = float(i) / 100 * T\n",
    "        cur_s = s(t)\n",
    "        cur_d = d(t)\n",
    "        targ_s, _, _, targ_d, _, _ = vehicle.state_in(t)\n",
    "        dist = sqrt((cur_s-targ_s)**2 + (cur_d-targ_d)**2)\n",
    "        if dist < closest:\n",
    "            closest = dist\n",
    "    return closest"
   ],
   "outputs": [],
   "metadata": {
    "collapsed": true
   }
  },
  {
   "cell_type": "code",
   "execution_count": 7,
   "source": [
    "def logistic(x):\n",
    "    return 2.0 / (1 + exp(-x)) - 1.0\n",
    "\n",
    "# COST FUNCTIONS\n",
    "def time_diff_cost(traj, target_vehicle, delta, T, predictions):\n",
    "    _, _, t = traj\n",
    "    return logistic(abs(t-T))\n",
    "\n",
    "def s_diff_cost(traj, target_vehicle, delta, T, predictions):\n",
    "    s, _, _ = traj\n",
    "    target = predictions[target_vehicle].state_in(T)\n",
    "    s_targ = target[:3]\n",
    "    cost = 0\n",
    "    for actual, expected, sigma in zip(s, s_targ, SIGMA_S):\n",
    "        diff = float(abs(actual-expected))\n",
    "        cost += logistic(diff/sigma)\n",
    "    return cost\n",
    "\n",
    "def d_diff_cost(traj, target_vehicle, delta, T, predictions):\n",
    "    _, d, _ = traj\n",
    "    target = predictions[target_vehicle].state_in(T)\n",
    "    d_targ = target[3:]\n",
    "    cost = 0\n",
    "    for actual, expected, sigma in zip(d, d_targ, SIGMA_D):\n",
    "        diff = float(abs(actual-expected))\n",
    "        cost += logistic(diff/sigma)\n",
    "    return cost\n",
    "\n",
    "def collision_cost(traj, target_vehicle, delta, T, predictions):\n",
    "    nearest = nearest_approach_to_any_vehicle(traj, predictions)\n",
    "    if nearest < 2*VEHICLE_RADIUS: return 1.0\n",
    "    else : return 0.0\n",
    "    pass\n",
    "\n",
    "def buffer_cost(traj, target_vehicle, delta, T, predictions):\n",
    "    nearest = nearest_approach_to_any_vehicle(traj, predictions)\n",
    "    return logistic(2*VEHICLE_RADIUS / nearest)\n",
    "    \n",
    "def stays_on_road_cost(traj, target_vehicle, delta, T, predictions):\n",
    "    pass\n",
    "\n",
    "def exceeds_speed_limit_cost(traj, target_vehicle, delta, T, predictions):\n",
    "    pass\n",
    "\n",
    "def efficiency_cost(traj, target_vehicle, delta, T, predictions):\n",
    "    s, _, t = traj\n",
    "    s = to_equation(s)\n",
    "    avg_v = float(s(t)) / t\n",
    "    targ_s, _, _, _, _, _ = predictions[target_vehicle].state_in(t)\n",
    "    targ_v = float(targ_s) / t\n",
    "    return logistic(2*float(targ_v - avg_v) / avg_v)\n",
    "\n",
    "def max_accel_cost(traj, target_vehicle, delta, T, predictions):\n",
    "    s, d, t = traj\n",
    "    s_dot = differentiate(s)\n",
    "    s_d_dot = differentiate(s_dot)\n",
    "    a = to_equation(s_d_dot)\n",
    "    total_acc = 0\n",
    "    dt = float(T) / 100.0\n",
    "    for i in range(100):\n",
    "        t = dt * i\n",
    "        acc = a(t)\n",
    "        total_acc += abs(acc*dt)\n",
    "    acc_per_second = total_acc / T\n",
    "    \n",
    "    return logistic(acc_per_second / EXPECTED_ACC_IN_ONE_SEC )\n",
    "    \n",
    "def total_accel_cost(traj, target_vehicle, delta, T, predictions):\n",
    "    s, d, t = traj\n",
    "    s_dot = differentiate(s)\n",
    "    s_d_dot = differentiate(s_dot)\n",
    "    a = to_equation(s_d_dot)\n",
    "    all_accs = [a(float(T)/100 * i) for i in range(100)]\n",
    "    max_acc = max(all_accs, key=abs)\n",
    "    if abs(max_acc) > MAX_ACCEL: return 1\n",
    "    else: return 0\n",
    "    \n",
    "\n",
    "def max_jerk_cost(traj, target_vehicle, delta, T, predictions):\n",
    "    s, d, t = traj\n",
    "    s_dot = differentiate(s)\n",
    "    s_d_dot = differentiate(s_dot)\n",
    "    jerk = differentiate(s_d_dot)\n",
    "    jerk = to_equation(jerk)\n",
    "    all_jerks = [jerk(float(T)/100 * i) for i in range(100)]\n",
    "    max_jerk = max(all_jerks, key=abs)\n",
    "    if abs(max_jerk) > MAX_JERK: return 1\n",
    "    else: return 0\n",
    "\n",
    "def total_jerk_cost(traj, target_vehicle, delta, T, predictions):\n",
    "    s, d, t = traj\n",
    "    s_dot = differentiate(s)\n",
    "    s_d_dot = differentiate(s_dot)\n",
    "    jerk = to_equation(differentiate(s_d_dot))\n",
    "    total_jerk = 0\n",
    "    dt = float(T) / 100.0\n",
    "    for i in range(100):\n",
    "        t = dt * i\n",
    "        j = jerk(t)\n",
    "        total_jerk += abs(j*dt)\n",
    "    jerk_per_second = total_jerk / T\n",
    "    \n",
    "    return logistic(jerk_per_second / EXPECTED_JERK_IN_ONE_SEC )\n",
    "\n",
    "def PTG(start_s, start_d, target_vehicle, delta, T, predictions):\n",
    "    target = predictions[target_vehicle]\n",
    "    # generate alternative goals\n",
    "    all_goals = []\n",
    "    timestep = 0.5\n",
    "    t = T - 4 * timestep\n",
    "    while t <= T + 4 * timestep:\n",
    "        target_state = np.array(target.state_in(t)) + np.array(delta)\n",
    "        goal_s = target_state[:3]\n",
    "        goal_d = target_state[3:]\n",
    "        goals = [(goal_s, goal_d, t)]\n",
    "        for _ in range(N_SAMPLES):\n",
    "            perturbed = perturb_goal(goal_s, goal_d)\n",
    "            goals.append((perturbed[0], perturbed[1], t))\n",
    "        all_goals += goals\n",
    "        t += timestep\n",
    "    \n",
    "    # find best trajectory\n",
    "    trajectories = []\n",
    "    for goal in all_goals:\n",
    "        s_goal, d_goal, t = goal\n",
    "        s_coefficients = JMT(start_s, s_goal, t)\n",
    "        d_coefficients = JMT(start_d, d_goal, t)\n",
    "        trajectories.append(tuple([s_coefficients, d_coefficients, t]))\n",
    "    \n",
    "    best = min(trajectories, key=lambda tr: calculate_cost(tr, target_vehicle, delta, T, predictions, WEIGHTED_COST_FUNCTIONS))\n",
    "    return best\n",
    "    \n",
    "\n",
    "def calculate_cost(trajectory, target_vehicle, delta, goal_t, predictions, cost_functions_with_weights ):\n",
    "    cost = 0\n",
    "    for cf, weight in cost_functions_with_weights:\n",
    "        cost += weight * cf(trajectory, target_vehicle, delta, goal_t, predictions)\n",
    "    return cost\n",
    "\n",
    "def perturb_goal(goal_s, goal_d):\n",
    "    new_s_goal = []\n",
    "    for mu, sig in zip(goal_s, SIGMA_S):\n",
    "        new_s_goal.append(random.gauss(mu, sig))\n",
    "\n",
    "    new_d_goal = []\n",
    "    for mu, sig in zip(goal_d, SIGMA_D):\n",
    "        new_d_goal.append(random.gauss(mu, sig))\n",
    "        \n",
    "    return tuple([new_s_goal, new_d_goal])\n",
    "\n",
    "class Vehicle(object):\n",
    "    def __init__(self, start):\n",
    "        self.start_state = start\n",
    "    \n",
    "    def state_in(self, t):\n",
    "        s = self.start_state[:3]\n",
    "        d = self.start_state[3:]\n",
    "        state = [\n",
    "            s[0] + (s[1] * t) + s[2] * t**2 / 2.0,\n",
    "            s[1] + s[2] * t,\n",
    "            s[2],\n",
    "            d[0] + (d[1] * t) + d[2] * t**2 / 2.0,\n",
    "            d[1] + d[2] * t,\n",
    "            d[2],\n",
    "        ]\n",
    "        return state\n",
    "\n",
    "def JMT(start, end, T):\n",
    "    a_0, a_1, a_2 = start[0], start[1], start[2] / 2.0\n",
    "    c_0 = a_0 + a_1 * T + a_2 * T**2\n",
    "    c_1 = a_1 + a_2 * T\n",
    "    c_2 = 2 * a_2\n",
    "    \n",
    "    A = np.array([\n",
    "            [  T**3,   T**4,    T**5],\n",
    "            [3*T**2, 4*T**3,  5*T**4],\n",
    "            [6*T,   12*T**2, 20*T**5],\n",
    "        ])\n",
    "    B = np.array([\n",
    "            end[0] - c_0,\n",
    "            end[1] - c_1,\n",
    "            end[2] - c_2\n",
    "        ])\n",
    "    a_3_4_5 = np.linalg.solve(A,B)\n",
    "    alphas = np.concatenate([np.array([a_0, a_1, a_2]), a_3_4_5])\n",
    "    return alphas\n",
    "\n",
    "def to_equation(coefficients):\n",
    "    def f(t):\n",
    "        total = 0.0\n",
    "        for i, c in enumerate(coefficients): \n",
    "            total += c * t ** i\n",
    "        return total\n",
    "    return f\n",
    "\n",
    "def differentiate(coefficients):\n",
    "    new_cos = []\n",
    "    for deg, prev_co in enumerate(coefficients[1:]):\n",
    "        new_cos.append((deg+1) * prev_co)\n",
    "    return new_cos\n",
    "\n",
    "def show_trajectory(s_coeffs, d_coeffs, T, vehicle=None):\n",
    "    s = to_equation(s_coeffs)\n",
    "    d = to_equation(d_coeffs)\n",
    "    X = []\n",
    "    Y = []\n",
    "    if vehicle:\n",
    "        X2 = []\n",
    "        Y2 = []\n",
    "    t = 0\n",
    "    while t <= T:\n",
    "#         t = float(T) / 20 * i\n",
    "        X.append(s(t))\n",
    "        Y.append(d(t))\n",
    "        if vehicle:\n",
    "            s_, _, _, d_, _, _ = vehicle.state_in(t)\n",
    "            X2.append(s_)\n",
    "            Y2.append(d_)\n",
    "        t += 0.25\n",
    "    plt.scatter(X,Y)\n",
    "    if vehicle:\n",
    "        plt.scatter(X2, Y2)\n",
    "    plt.show()\n",
    "        "
   ],
   "outputs": [],
   "metadata": {
    "collapsed": true
   }
  },
  {
   "cell_type": "code",
   "execution_count": 11,
   "source": [
    "vehicle = Vehicle([0,10,0, 0,0,0])\n",
    "predictions = {0: vehicle}\n",
    "target = 0\n",
    "delta = [-5, 0, 0, 0, 0 ,0]\n",
    "start_s = [10, 10, 0]\n",
    "start_d = [4, 0, 0]\n",
    "T = 5.0\n",
    "best = PTG(start_s, start_d, target, delta, T, predictions)"
   ],
   "outputs": [],
   "metadata": {}
  },
  {
   "cell_type": "code",
   "execution_count": 12,
   "source": [
    "show_trajectory(best[0], best[1], best[2])"
   ],
   "outputs": [
    {
     "output_type": "display_data",
     "data": {
      "image/png": "[encoded data removed]",
      "text/plain": [
       "<Figure size 432x288 with 1 Axes>"
      ]
     },
     "metadata": {
      "needs_background": "light"
     }
    }
   ],
   "metadata": {}
  },
  {
   "cell_type": "code",
   "execution_count": 13,
   "source": [
    "best[2]"
   ],
   "outputs": [
    {
     "output_type": "execute_result",
     "data": {
      "text/plain": [
       "3.5"
      ]
     },
     "metadata": {},
     "execution_count": 13
    }
   ],
   "metadata": {}
  },
  {
   "cell_type": "code",
   "execution_count": 14,
   "source": [
    "best[1]"
   ],
   "outputs": [
    {
     "output_type": "execute_result",
     "data": {
      "text/plain": [
       "array([ 4.00000000e+00,  0.00000000e+00,  0.00000000e+00, -3.14106233e-01,\n",
       "        7.22670876e-02, -4.09637895e-04])"
      ]
     },
     "metadata": {},
     "execution_count": 14
    }
   ],
   "metadata": {}
  },
  {
   "cell_type": "code",
   "execution_count": 15,
   "source": [
    "nearest_approach_to_any_vehicle(best, predictions)"
   ],
   "outputs": [
    {
     "output_type": "execute_result",
     "data": {
      "text/plain": [
       "10.770329614269007"
      ]
     },
     "metadata": {},
     "execution_count": 15
    }
   ],
   "metadata": {}
  },
  {
   "cell_type": "code",
   "execution_count": null,
   "source": [],
   "outputs": [],
   "metadata": {
    "collapsed": true
   }
  }
 ],
 "metadata": {
  "kernelspec": {
   "name": "python3",
   "display_name": "Python 3.8.10 64-bit"
  },
  "language_info": {
   "name": "python",
   "version": "3.8.10",
   "mimetype": "text/x-python",
   "codemirror_mode": {
    "name": "ipython",
    "version": 3
   },
   "pygments_lexer": "ipython3",
   "nbconvert_exporter": "python",
   "file_extension": ".py"
  },
  "interpreter": {
   "hash": "e7370f93d1d0cde622a1f8e1c04877d8463912d04d973331ad4851f04de6915a"
  }
 },
 "nbformat": 4,
 "nbformat_minor": 2
}